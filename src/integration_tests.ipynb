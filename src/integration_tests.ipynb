{
 "cells": [
  {
   "cell_type": "markdown",
   "metadata": {
    "application/vnd.databricks.v1+cell": {
     "cellMetadata": {},
     "inputWidgets": {},
     "nuid": "7d002345-40a2-4e2f-86d1-36aaf36ac651",
     "showTitle": false,
     "tableResultSettingsMap": {},
     "title": ""
    }
   },
   "source": [
    "# Lakeflow Declarative Pipelines Integration Tests Using Expectations\n",
    "This is a simple example pipeline that includes a few integration checks using expectations on a simple project to demonstrate the basics.\n",
    "\n",
    "Please check out the following resources for more information.\n",
    "\n",
    "- [Manage data quality with pipeline expectations](https://docs.databricks.com/en/delta-live-tables/expectations.html#manage-data-quality-with-pipeline-expectations)\n",
    "\n",
    "- [Expectation recommendations and advanced patterns](https://docs.databricks.com/en/delta-live-tables/expectation-patterns.html#expectation-recommendations-and-advanced-patterns)\n",
    "\n",
    "- [Applying software development & DevOps best practices to Delta Live Table pipelines](https://www.databricks.com/blog/applying-software-development-devops-best-practices-delta-live-table-pipelines)"
   ]
  },
  {
   "cell_type": "markdown",
   "metadata": {
    "application/vnd.databricks.v1+cell": {
     "cellMetadata": {},
     "inputWidgets": {},
     "nuid": "f40157d8-8a5d-4bde-bce8-9faf2f774474",
     "showTitle": false,
     "tableResultSettingsMap": {},
     "title": ""
    }
   },
   "source": [
    "## Obtain Configuration Variable for the Target Environment\n",
    "This path will use the configuration variable set in the pipeline for **dev, stage and prod**.\n",
    "\n",
    "- If target is **dev** or **stage** run all integration tests. \n",
    "- If target is **prod**, only check the column value range integration test."
   ]
  },
  {
   "cell_type": "code",
   "execution_count": 0,
   "metadata": {
    "application/vnd.databricks.v1+cell": {
     "cellMetadata": {},
     "inputWidgets": {},
     "nuid": "79815d2f-7164-4408-a50d-781510c14f2c",
     "showTitle": false,
     "tableResultSettingsMap": {},
     "title": ""
    }
   },
   "outputs": [],
   "source": [
    "import dlt\n",
    "\n",
    "## Store the target configuration environment in the variable target\n",
    "target = spark.conf.get(\"target\")"
   ]
  },
  {
   "cell_type": "markdown",
   "metadata": {
    "application/vnd.databricks.v1+cell": {
     "cellMetadata": {},
     "inputWidgets": {},
     "nuid": "b5fed0bc-b239-4272-b452-359d95f063aa",
     "showTitle": false,
     "tableResultSettingsMap": {},
     "title": ""
    }
   },
   "source": [
    "### Create a Dictionary for Integration Test Values\n",
    "\n",
    "Create a dictionary containing the necessary values for integration tests in both **dev** and **stage** environments. There are several approaches to achieve this, but this is a straightforward method.\n",
    "\n",
    "For more information, refer to the [Portable and Reusable Expectations](https://docs.databricks.com/en/delta-live-tables/expectation-patterns.html#portable-and-reusable-expectations) documentation.\n",
    "\n"
   ]
  },
  {
   "cell_type": "code",
   "execution_count": 0,
   "metadata": {
    "application/vnd.databricks.v1+cell": {
     "cellMetadata": {},
     "inputWidgets": {},
     "nuid": "8df5aa8f-79aa-434e-b361-c9f6b0689416",
     "showTitle": false,
     "tableResultSettingsMap": {},
     "title": ""
    }
   },
   "outputs": [],
   "source": [
    "## Based on the deployed target, obtain the specific validation metrics for the tables.\n",
    "target_integration_tests_validation = {\n",
    "    'dev': {\n",
    "        'filtered_taxis': {\n",
    "            'total_rows': 20581\n",
    "        }\n",
    "    },\n",
    "    'stage': {\n",
    "        'filtered_taxis': {\n",
    "            'total_rows': 20581\n",
    "        }\n",
    "    }\n",
    "}\n",
    "\n",
    "\n",
    "## Store the expected values for the total rows in the tables tables in the variables based on the target if in development or stage\n",
    "if target in ('dev', 'stage'):\n",
    "    total_expected = target_integration_tests_validation[target]['filtered_taxis']['total_rows']\n"
   ]
  },
  {
   "cell_type": "markdown",
   "metadata": {
    "application/vnd.databricks.v1+cell": {
     "cellMetadata": {},
     "inputWidgets": {},
     "nuid": "3cc4ea86-f394-4fa7-8c93-46ab48e42da0",
     "showTitle": false,
     "tableResultSettingsMap": {},
     "title": ""
    }
   },
   "source": [
    "### Create a Function to Count the Total Number of Rows in a Table\n",
    "The `test_count_table_total_rows` function creates a materialized view that counts the total number of rows in the specified table."
   ]
  },
  {
   "cell_type": "code",
   "execution_count": 0,
   "metadata": {
    "application/vnd.databricks.v1+cell": {
     "cellMetadata": {},
     "inputWidgets": {},
     "nuid": "27360ad3-0db8-4731-959c-6d609bd47c01",
     "showTitle": false,
     "tableResultSettingsMap": {},
     "title": ""
    }
   },
   "outputs": [],
   "source": [
    "def test_count_table_total_rows(table_name, total_count, target):\n",
    "    '''\n",
    "    Count the number of rows in the specified table and compare with the expected values for development and stage data. \n",
    "    Fail the update if the count does not match the specified values.\n",
    "    '''\n",
    "    @dlt.table(\n",
    "        name=f\"TEST_{target}_{table_name}_total_rows_verification\",\n",
    "        comment=f\"Confirms all rows were ingested from the {target} raw data to {table_name}\"\n",
    "    )\n",
    "\n",
    "    @dlt.expect_all_or_fail({\"valid count\": f\"total_rows = {total_count}\"}) \n",
    "\n",
    "    def count_table_total_rows():\n",
    "        return spark.sql(f\"\"\"\n",
    "            SELECT COUNT(*) AS total_rows FROM LIVE.{table_name}\n",
    "        \"\"\")"
   ]
  },
  {
   "cell_type": "markdown",
   "metadata": {
    "application/vnd.databricks.v1+cell": {
     "cellMetadata": {},
     "inputWidgets": {},
     "nuid": "5abeffbf-e1c2-42fd-ac45-da10e2c9926e",
     "showTitle": false,
     "tableResultSettingsMap": {},
     "title": ""
    }
   },
   "source": [
    "### Create a Function to Confirm the Column Value ranges in the Materialized View\n",
    "The `test_filtered_taxi_table_columns` function creates a materialized view that checks the values in the columns **pickup_zip**. **dropoff_zip**, **trip_distance**, and **fare_amount** in **filtered_taxi**."
   ]
  },
  {
   "cell_type": "code",
   "execution_count": 0,
   "metadata": {
    "application/vnd.databricks.v1+cell": {
     "cellMetadata": {},
     "inputWidgets": {},
     "nuid": "af2ef367-c482-4e3c-aa46-899e0bcac409",
     "showTitle": false,
     "tableResultSettingsMap": {},
     "title": ""
    }
   },
   "outputs": [],
   "source": [
    "def test_filtered_taxi_table_columns(target):\n",
    "    '''\n",
    "    This function will check the ranges of values in the columns pickup_zip. dropoff_zip, trip_distance, and fare_amount in the table filtered_taxis.\n",
    "\n",
    "    This confirms that the distinct values for these columns in the table are valid.\n",
    "    ''' \n",
    "    ## Set expectations for the columns\n",
    "    check_columns = {\n",
    "        \"valid pickup zip\": \"pickup_zip > 7000 AND pickup_zip < 12000\",\n",
    "        \"valid dropoff zip\": \"dropoff_zip > 7000 AND dropoff_zip < 12000\",\n",
    "        \"valid trip distance\": \"trip_distance >= 0\",\n",
    "        \"valid fare amount\": \"fare_amount < 30\" ## This is the query filter used to create the filtered_taxis table in the pipeline.\n",
    "    }\n",
    "\n",
    "    @dlt.table(name=f\"TEST_{target}_filtered_taxis_columns\",\n",
    "               comment=\"Check column ranges in the filtered_taxis table\")\n",
    "\n",
    "    ## Fail if expectations are not met\n",
    "    @dlt.expect_all_or_fail(check_columns)\n",
    "\n",
    "    def filtered_taxi_table_columns():\n",
    "        return (dlt\n",
    "                .read(\"filtered_taxis\")\n",
    "                .select(\"pickup_zip\", \"dropoff_zip\", \"trip_distance\", \"fare_amount\")\n",
    "            )"
   ]
  },
  {
   "cell_type": "markdown",
   "metadata": {
    "application/vnd.databricks.v1+cell": {
     "cellMetadata": {},
     "inputWidgets": {},
     "nuid": "b4cbb100-0088-49ec-b499-10f0e8b5dc50",
     "showTitle": false,
     "tableResultSettingsMap": {},
     "title": ""
    }
   },
   "source": [
    "### Execute the Specified Integration Tests\n",
    "Execute the specified integration tests based on the target environment."
   ]
  },
  {
   "cell_type": "code",
   "execution_count": 0,
   "metadata": {
    "application/vnd.databricks.v1+cell": {
     "cellMetadata": {},
     "inputWidgets": {},
     "nuid": "a6cc4833-ebd4-4474-a773-8628e809983d",
     "showTitle": false,
     "tableResultSettingsMap": {},
     "title": ""
    }
   },
   "outputs": [],
   "source": [
    "## Run the specified tests based on the target environment (dev, stage or production)\n",
    "\n",
    "if target in ('dev','stage'):  ## Dynamic integration test for dev or stage tables\n",
    "    test_count_table_total_rows('filtered_taxis',  total_expected, target)\n",
    "    test_filtered_taxi_table_columns(target)\n",
    "    \n",
    "elif target == 'prod':  ## Only test the column value ranges in production.\n",
    "    test_filtered_taxi_table_columns(target)"
   ]
  }
 ],
 "metadata": {
  "application/vnd.databricks.v1+notebook": {
   "computePreferences": null,
   "dashboards": [],
   "environmentMetadata": null,
   "inputWidgetPreferences": null,
   "language": "python",
   "notebookMetadata": {
    "pythonIndentUnit": 2
   },
   "notebookName": "integration_tests_dlt",
   "widgets": {}
  },
  "language_info": {
   "name": "python"
  }
 },
 "nbformat": 4,
 "nbformat_minor": 0
}
