{
 "cells": [
  {
   "cell_type": "code",
   "execution_count": 1,
   "metadata": {},
   "outputs": [],
   "source": [
    "%load_ext autoreload\n",
    "%autoreload 2"
   ]
  },
  {
   "cell_type": "code",
   "execution_count": 2,
   "metadata": {},
   "outputs": [
    {
     "name": "stdout",
     "output_type": "stream",
     "text": [
      "Requirement already satisfied: pytest==8.3.4 in /Users/dennis.schultz/Documents/projects/myDatabricksRepo/.venv/lib/python3.12/site-packages (8.3.4)\n",
      "Requirement already satisfied: iniconfig in /Users/dennis.schultz/Documents/projects/myDatabricksRepo/.venv/lib/python3.12/site-packages (from pytest==8.3.4) (2.1.0)\n",
      "Requirement already satisfied: packaging in /Users/dennis.schultz/Documents/projects/myDatabricksRepo/.venv/lib/python3.12/site-packages (from pytest==8.3.4) (25.0)\n",
      "Requirement already satisfied: pluggy<2,>=1.5 in /Users/dennis.schultz/Documents/projects/myDatabricksRepo/.venv/lib/python3.12/site-packages (from pytest==8.3.4) (1.6.0)\n"
     ]
    }
   ],
   "source": [
    "!pip install pytest==8.3.4"
   ]
  },
  {
   "cell_type": "code",
   "execution_count": 3,
   "metadata": {},
   "outputs": [
    {
     "name": "stdout",
     "output_type": "stream",
     "text": [
      "\u001b[1m============================= test session starts ==============================\u001b[0m\n",
      "platform darwin -- Python 3.12.6, pytest-8.3.4, pluggy-1.6.0 -- /Users/dennis.schultz/Documents/projects/myDatabricksRepo/.venv/bin/python\n",
      "rootdir: /Users/dennis.schultz/Documents/projects/myDatabricksRepo/dabs/taxi_processing\n",
      "configfile: pyproject.toml\n",
      "plugins: typeguard-4.3.0\n",
      "\u001b[1mcollecting ... \u001b[0mcollected 2 items\n",
      "\n",
      "tests/main_test.py::test_get_taxis_count \u001b[32mPASSED\u001b[0m\u001b[32m                          [ 50%]\u001b[0m\n",
      "tests/main_test.py::test_get_taxis_schema \u001b[32mPASSED\u001b[0m\u001b[32m                         [100%]\u001b[0m\n",
      "\n",
      "\u001b[32m============================== \u001b[32m\u001b[1m2 passed\u001b[0m\u001b[32m in 1.26s\u001b[0m\u001b[32m ===============================\u001b[0m\n"
     ]
    }
   ],
   "source": [
    "import pytest\n",
    "import sys\n",
    "\n",
    "sys.dont_write_bytecode = True\n",
    "\n",
    "retcode = pytest.main([\"./tests/main_test.py\", \"-v\", \"-p\", \"no:cacheprovider\"])\n",
    "\n",
    "assert retcode == 0, \"The pytest invocation failed. See the log for details.\""
   ]
  }
 ],
 "metadata": {
  "application/vnd.databricks.v1+notebook": {
   "dashboards": [],
   "language": "python",
   "notebookMetadata": {
    "pythonIndentUnit": 2
   },
   "notebookName": "ipynb-notebook",
   "widgets": {}
  },
  "kernelspec": {
   "display_name": "Python 3",
   "language": "python",
   "name": "python3"
  },
  "language_info": {
   "codemirror_mode": {
    "name": "ipython",
    "version": 3
   },
   "file_extension": ".py",
   "mimetype": "text/x-python",
   "name": "python",
   "nbconvert_exporter": "python",
   "pygments_lexer": "ipython3",
   "version": "3.12.6"
  }
 },
 "nbformat": 4,
 "nbformat_minor": 0
}
